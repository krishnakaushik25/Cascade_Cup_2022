{
 "cells": [
  {
   "cell_type": "markdown",
   "id": "a72b547f",
   "metadata": {
    "papermill": {
     "duration": 0.062194,
     "end_time": "2022-02-23T12:32:19.581038",
     "exception": false,
     "start_time": "2022-02-23T12:32:19.518844",
     "status": "completed"
    },
    "tags": []
   },
   "source": [
    "##### Note to CnA: Do check the data tab "
   ]
  },
  {
   "cell_type": "markdown",
   "id": "93b88d5f",
   "metadata": {
    "execution": {
     "iopub.execute_input": "2022-02-10T17:03:52.362052Z",
     "iopub.status.busy": "2022-02-10T17:03:52.361224Z",
     "iopub.status.idle": "2022-02-10T17:03:52.369867Z",
     "shell.execute_reply": "2022-02-10T17:03:52.368672Z",
     "shell.execute_reply.started": "2022-02-10T17:03:52.361998Z"
    },
    "id": "Qgu35D3ApuIl",
    "papermill": {
     "duration": 0.059698,
     "end_time": "2022-02-23T12:32:19.705144",
     "exception": false,
     "start_time": "2022-02-23T12:32:19.645446",
     "status": "completed"
    },
    "tags": []
   },
   "source": [
    "# Importing Libraries"
   ]
  },
  {
   "cell_type": "code",
   "execution_count": 1,
   "id": "847c3324",
   "metadata": {
    "execution": {
     "iopub.execute_input": "2022-02-23T12:32:19.820725Z",
     "iopub.status.busy": "2022-02-23T12:32:19.819548Z",
     "iopub.status.idle": "2022-02-23T12:32:23.227746Z",
     "shell.execute_reply": "2022-02-23T12:32:23.227079Z"
    },
    "papermill": {
     "duration": 3.467255,
     "end_time": "2022-02-23T12:32:23.227970",
     "exception": false,
     "start_time": "2022-02-23T12:32:19.760715",
     "status": "completed"
    },
    "tags": []
   },
   "outputs": [
    {
     "data": {
      "text/html": [
       "<style type='text/css'>\n",
       ".datatable table.frame { margin-bottom: 0; }\n",
       ".datatable table.frame thead { border-bottom: none; }\n",
       ".datatable table.frame tr.coltypes td {  color: #FFFFFF;  line-height: 6px;  padding: 0 0.5em;}\n",
       ".datatable .bool    { background: #DDDD99; }\n",
       ".datatable .object  { background: #565656; }\n",
       ".datatable .int     { background: #5D9E5D; }\n",
       ".datatable .float   { background: #4040CC; }\n",
       ".datatable .str     { background: #CC4040; }\n",
       ".datatable .time    { background: #40CC40; }\n",
       ".datatable .row_index {  background: var(--jp-border-color3);  border-right: 1px solid var(--jp-border-color0);  color: var(--jp-ui-font-color3);  font-size: 9px;}\n",
       ".datatable .frame tbody td { text-align: left; }\n",
       ".datatable .frame tr.coltypes .row_index {  background: var(--jp-border-color0);}\n",
       ".datatable th:nth-child(2) { padding-left: 12px; }\n",
       ".datatable .hellipsis {  color: var(--jp-cell-editor-border-color);}\n",
       ".datatable .vellipsis {  background: var(--jp-layout-color0);  color: var(--jp-cell-editor-border-color);}\n",
       ".datatable .na {  color: var(--jp-cell-editor-border-color);  font-size: 80%;}\n",
       ".datatable .sp {  opacity: 0.25;}\n",
       ".datatable .footer { font-size: 9px; }\n",
       ".datatable .frame_dimensions {  background: var(--jp-border-color3);  border-top: 1px solid var(--jp-border-color0);  color: var(--jp-ui-font-color3);  display: inline-block;  opacity: 0.6;  padding: 1px 10px 1px 5px;}\n",
       "</style>\n"
      ],
      "text/plain": [
       "<IPython.core.display.HTML object>"
      ]
     },
     "metadata": {},
     "output_type": "display_data"
    }
   ],
   "source": [
    "import pandas as pd\n",
    "import numpy as np\n",
    "from sklearn.metrics import roc_auc_score\n",
    "from xgboost import XGBClassifier\n",
    "import optuna\n",
    "from datetime import datetime\n",
    "from sklearn.impute import SimpleImputer\n",
    "from sklearn import preprocessing\n",
    "from sklearn import ensemble\n",
    "import seaborn as sns\n",
    "import lightgbm as lgb\n",
    "from sklearn import preprocessing\n",
    "import matplotlib.pyplot as plt\n",
    "import catboost as cb\n",
    "from sklearn.linear_model import LogisticRegression\n",
    "from imblearn.under_sampling import RandomUnderSampler\n",
    "import warnings\n",
    "warnings.filterwarnings(\"ignore\")\n"
   ]
  },
  {
   "cell_type": "markdown",
   "id": "153067c7",
   "metadata": {
    "papermill": {
     "duration": 0.056599,
     "end_time": "2022-02-23T12:32:23.342150",
     "exception": false,
     "start_time": "2022-02-23T12:32:23.285551",
     "status": "completed"
    },
    "tags": []
   },
   "source": [
    "# Loading Datasets"
   ]
  },
  {
   "cell_type": "code",
   "execution_count": 2,
   "id": "0c5ba5dc",
   "metadata": {
    "execution": {
     "iopub.execute_input": "2022-02-23T12:32:23.461417Z",
     "iopub.status.busy": "2022-02-23T12:32:23.460732Z",
     "iopub.status.idle": "2022-02-23T12:32:29.713677Z",
     "shell.execute_reply": "2022-02-23T12:32:29.714238Z",
     "shell.execute_reply.started": "2022-02-10T17:03:52.372917Z"
    },
    "papermill": {
     "duration": 6.31582,
     "end_time": "2022-02-23T12:32:29.714426",
     "exception": false,
     "start_time": "2022-02-23T12:32:23.398606",
     "status": "completed"
    },
    "tags": []
   },
   "outputs": [],
   "source": [
    "# Here we have 2 different versions of train dataset with 2 different forms of 5 fold split (2 because of model stacking having 2 levels)\n",
    "df_stacking = pd.read_csv('../input/stacking-folds/train_folds (6).csv', parse_dates = True)\n",
    "df = pd.read_csv('../input/new-kflods-round2/train_folds (4).csv', parse_dates = True)\n",
    "df_test = pd.read_csv('../input/cascade-cup-22/test.csv', parse_dates = True)\n",
    "sample_submission = pd.read_csv('../input/cascade-cup-22/sample_submission.csv')"
   ]
  },
  {
   "cell_type": "markdown",
   "id": "493a953a",
   "metadata": {
    "papermill": {
     "duration": 0.056416,
     "end_time": "2022-02-23T12:32:29.828320",
     "exception": false,
     "start_time": "2022-02-23T12:32:29.771904",
     "status": "completed"
    },
    "tags": []
   },
   "source": [
    "# Working with the Data"
   ]
  },
  {
   "cell_type": "code",
   "execution_count": 3,
   "id": "53497329",
   "metadata": {
    "execution": {
     "iopub.execute_input": "2022-02-23T12:32:29.945952Z",
     "iopub.status.busy": "2022-02-23T12:32:29.945293Z",
     "iopub.status.idle": "2022-02-23T12:32:30.071089Z",
     "shell.execute_reply": "2022-02-23T12:32:30.070538Z",
     "shell.execute_reply.started": "2022-02-10T17:03:56.85523Z"
    },
    "papermill": {
     "duration": 0.18613,
     "end_time": "2022-02-23T12:32:30.071237",
     "exception": false,
     "start_time": "2022-02-23T12:32:29.885107",
     "status": "completed"
    },
    "tags": []
   },
   "outputs": [],
   "source": [
    "# Combining the second set of kfolds created to the main dataset\n",
    "df_stacking.rename(columns = {'kfold':'stacking_kfold'}, inplace = True)\n",
    "df_stacking_new = df_stacking.pop('stacking_kfold')\n",
    "df = pd.concat([df,df_stacking_new],axis = 'columns')"
   ]
  },
  {
   "cell_type": "code",
   "execution_count": 4,
   "id": "e8b8fcbe",
   "metadata": {
    "execution": {
     "iopub.execute_input": "2022-02-23T12:32:30.204908Z",
     "iopub.status.busy": "2022-02-23T12:32:30.198996Z",
     "iopub.status.idle": "2022-02-23T12:32:38.216117Z",
     "shell.execute_reply": "2022-02-23T12:32:38.215464Z",
     "shell.execute_reply.started": "2022-02-10T17:03:56.985776Z"
    },
    "id": "UjzbUWMPpuIr",
    "papermill": {
     "duration": 8.088141,
     "end_time": "2022-02-23T12:32:38.216282",
     "exception": false,
     "start_time": "2022-02-23T12:32:30.128141",
     "status": "completed"
    },
    "tags": []
   },
   "outputs": [],
   "source": [
    "# Splitting the time features given originally to time and date\n",
    "df[['order_date','order_time']] = (df['order_time'].str.split(' ', expand = True))\n",
    "df[['allot_date','allot_time']] = (df['allot_time'].str.split(' ', expand = True))\n",
    "df[['accept_date','accept_time']] = (df['accept_time'].str.split(' ', expand = True))\n",
    "df[['pickup_date','pickup_time']] = (df['pickup_time'].str.split(' ', expand = True))\n",
    "df[['delivered_date','delivered_time']] = (df['delivered_time'].str.split(' ', expand = True))\n",
    "df_test[['order_date','order_time']] = (df_test['order_time'].str.split(' ', expand = True))\n",
    "df_test[['allot_date','allot_time']] = (df_test['allot_time'].str.split(' ', expand = True))\n",
    "df_test[['accept_date','accept_time']] = (df_test['accept_time'].str.split(' ', expand = True))"
   ]
  },
  {
   "cell_type": "code",
   "execution_count": 5,
   "id": "e7432281",
   "metadata": {
    "execution": {
     "iopub.execute_input": "2022-02-23T12:32:38.339235Z",
     "iopub.status.busy": "2022-02-23T12:32:38.338565Z",
     "iopub.status.idle": "2022-02-23T12:32:39.074867Z",
     "shell.execute_reply": "2022-02-23T12:32:39.075364Z",
     "shell.execute_reply.started": "2022-02-10T17:04:05.732434Z"
    },
    "id": "N38aprDlpuIs",
    "papermill": {
     "duration": 0.798523,
     "end_time": "2022-02-23T12:32:39.075548",
     "exception": false,
     "start_time": "2022-02-23T12:32:38.277025",
     "status": "completed"
    },
    "tags": []
   },
   "outputs": [],
   "source": [
    "# Dropping the data leakage features and some other redundant features\n",
    "df = df.drop(['delivered_time','pickup_time'],axis = 'columns')\n",
    "df = df.drop(['accept_date','allot_date','pickup_date','delivered_date','cancelled_time'],axis = 'columns')\n",
    "df_test = df_test.drop(['accept_date','allot_date'],axis = 'columns')"
   ]
  },
  {
   "cell_type": "code",
   "execution_count": 6,
   "id": "2dc1655f",
   "metadata": {
    "execution": {
     "iopub.execute_input": "2022-02-23T12:32:39.192661Z",
     "iopub.status.busy": "2022-02-23T12:32:39.191994Z",
     "iopub.status.idle": "2022-02-23T12:32:39.198636Z",
     "shell.execute_reply": "2022-02-23T12:32:39.199157Z",
     "shell.execute_reply.started": "2022-02-10T17:04:06.597803Z"
    },
    "id": "nsjt-hdypuIs",
    "papermill": {
     "duration": 0.066956,
     "end_time": "2022-02-23T12:32:39.199334",
     "exception": false,
     "start_time": "2022-02-23T12:32:39.132378",
     "status": "completed"
    },
    "tags": []
   },
   "outputs": [],
   "source": [
    "# Filling null values in reassigned_order with 0 as null values here represent the fact that order was not a reassigned order\n",
    "df['reassigned_order'].fillna(value = 0,inplace = True)\n",
    "df_test['reassigned_order'].fillna(value = 0,inplace = True)"
   ]
  },
  {
   "cell_type": "code",
   "execution_count": 7,
   "id": "c7182b10",
   "metadata": {
    "execution": {
     "iopub.execute_input": "2022-02-23T12:32:39.317003Z",
     "iopub.status.busy": "2022-02-23T12:32:39.316304Z",
     "iopub.status.idle": "2022-02-23T12:32:39.358281Z",
     "shell.execute_reply": "2022-02-23T12:32:39.357722Z",
     "shell.execute_reply.started": "2022-02-10T17:04:06.607719Z"
    },
    "id": "ylKk0BQcpuIu",
    "papermill": {
     "duration": 0.102036,
     "end_time": "2022-02-23T12:32:39.358442",
     "exception": false,
     "start_time": "2022-02-23T12:32:39.256406",
     "status": "completed"
    },
    "tags": []
   },
   "outputs": [],
   "source": [
    "# Filling null values in reassignment_method with null as null values here represent the fact that order was not a reassigned order\n",
    "df['reassignment_method'].fillna(value = 'null',inplace = True)\n",
    "df_test['reassignment_method'].fillna(value = 'null',inplace = True)"
   ]
  },
  {
   "cell_type": "code",
   "execution_count": 8,
   "id": "ef3e3f63",
   "metadata": {
    "execution": {
     "iopub.execute_input": "2022-02-23T12:32:39.503381Z",
     "iopub.status.busy": "2022-02-23T12:32:39.498046Z",
     "iopub.status.idle": "2022-02-23T12:32:39.520020Z",
     "shell.execute_reply": "2022-02-23T12:32:39.519412Z",
     "shell.execute_reply.started": "2022-02-10T17:04:06.656791Z"
    },
    "papermill": {
     "duration": 0.104645,
     "end_time": "2022-02-23T12:32:39.520170",
     "exception": false,
     "start_time": "2022-02-23T12:32:39.415525",
     "status": "completed"
    },
    "tags": []
   },
   "outputs": [],
   "source": [
    "# Filling null values in reassignment_reason with null as null values here represent the fact that order was not a reassigned order\n",
    "df['reassignment_reason'].fillna(value = 'null',inplace = True)\n",
    "df_test['reassignment_reason'].fillna(value = 'null',inplace = True)"
   ]
  },
  {
   "cell_type": "code",
   "execution_count": 9,
   "id": "7dd280b7",
   "metadata": {
    "execution": {
     "iopub.execute_input": "2022-02-23T12:32:39.638667Z",
     "iopub.status.busy": "2022-02-23T12:32:39.637957Z",
     "iopub.status.idle": "2022-02-23T12:32:39.778185Z",
     "shell.execute_reply": "2022-02-23T12:32:39.778681Z",
     "shell.execute_reply.started": "2022-02-10T17:04:06.699781Z"
    },
    "papermill": {
     "duration": 0.201972,
     "end_time": "2022-02-23T12:32:39.778895",
     "exception": false,
     "start_time": "2022-02-23T12:32:39.576923",
     "status": "completed"
    },
    "tags": []
   },
   "outputs": [],
   "source": [
    "# Label encoding reassignment_reason using map function\n",
    "df['reassignment_reason'] = df['reassignment_reason'].map({'null':0,'Auto Reassignment basis Inaction. coreengine.tasks.repush_order_to_aa_bucket':1,'Reassignment Request from SE portal.':2,'Reassign':3})\n",
    "df_test['reassignment_reason'] = df_test['reassignment_reason'].map({'null':0,'Auto Reassignment basis Inaction. coreengine.tasks.repush_order_to_aa_bucket':1,'Reassignment Request from SE portal.':2,'Reassign':3})"
   ]
  },
  {
   "cell_type": "code",
   "execution_count": 10,
   "id": "ba53a9d2",
   "metadata": {
    "execution": {
     "iopub.execute_input": "2022-02-23T12:32:39.951113Z",
     "iopub.status.busy": "2022-02-23T12:32:39.950394Z",
     "iopub.status.idle": "2022-02-23T12:32:39.976155Z",
     "shell.execute_reply": "2022-02-23T12:32:39.975499Z",
     "shell.execute_reply.started": "2022-02-10T17:04:06.830456Z"
    },
    "id": "xrHtbNYrpuIv",
    "papermill": {
     "duration": 0.139409,
     "end_time": "2022-02-23T12:32:39.976321",
     "exception": false,
     "start_time": "2022-02-23T12:32:39.836912",
     "status": "completed"
    },
    "tags": []
   },
   "outputs": [],
   "source": [
    "# Creating a new feature to mark the rows where there were null values in accept_time although this feature turned out to be not so important\n",
    "df['not_accepted'] = np.where(df['accept_time'].isna() ,1,0)\n",
    "df_test['not_accepted'] = np.where(df_test['accept_time'].isna() ,1,0)"
   ]
  },
  {
   "cell_type": "code",
   "execution_count": 11,
   "id": "e57b6583",
   "metadata": {
    "execution": {
     "iopub.execute_input": "2022-02-23T12:32:40.106329Z",
     "iopub.status.busy": "2022-02-23T12:32:40.100570Z",
     "iopub.status.idle": "2022-02-23T12:34:09.824818Z",
     "shell.execute_reply": "2022-02-23T12:34:09.824173Z",
     "shell.execute_reply.started": "2022-02-10T17:04:06.91127Z"
    },
    "id": "4CmnJ1RnpuIv",
    "papermill": {
     "duration": 89.79157,
     "end_time": "2022-02-23T12:34:09.825005",
     "exception": false,
     "start_time": "2022-02-23T12:32:40.033435",
     "status": "completed"
    },
    "tags": []
   },
   "outputs": [],
   "source": [
    "#converting to datetime form (not sure if this was necessary or not)\n",
    "df['order_time'] = pd.to_datetime(df['order_time'])\n",
    "df['order_date'] = pd.to_datetime(df['order_date'])\n",
    "df['allot_time'] = pd.to_datetime(df['allot_time'])\n",
    "df['accept_time'] = pd.to_datetime(df['accept_time'])\n",
    "\n",
    "df_test['order_time'] = pd.to_datetime(df_test['order_time'])\n",
    "df_test['order_date'] = pd.to_datetime(df_test['order_date'])\n",
    "df_test['allot_time'] = pd.to_datetime(df_test['allot_time'])\n",
    "df_test['accept_time'] = pd.to_datetime(df_test['accept_time'])"
   ]
  },
  {
   "cell_type": "code",
   "execution_count": 12,
   "id": "68fe80da",
   "metadata": {
    "execution": {
     "iopub.execute_input": "2022-02-23T12:34:09.946838Z",
     "iopub.status.busy": "2022-02-23T12:34:09.946042Z",
     "iopub.status.idle": "2022-02-23T12:34:10.144594Z",
     "shell.execute_reply": "2022-02-23T12:34:10.143978Z",
     "shell.execute_reply.started": "2022-02-10T17:05:36.793168Z"
    },
    "id": "ItDuuHw3puIv",
    "papermill": {
     "duration": 0.262244,
     "end_time": "2022-02-23T12:34:10.144779",
     "exception": false,
     "start_time": "2022-02-23T12:34:09.882535",
     "status": "completed"
    },
    "tags": []
   },
   "outputs": [],
   "source": [
    "# Creating new feature which tells us the day of the order\n",
    "df['day'] = df['order_date'].dt.day_name()\n",
    "df_test['day'] = df_test['order_date'].dt.day_name()"
   ]
  },
  {
   "cell_type": "code",
   "execution_count": 13,
   "id": "55e0c9c1",
   "metadata": {
    "execution": {
     "iopub.execute_input": "2022-02-23T12:34:10.266750Z",
     "iopub.status.busy": "2022-02-23T12:34:10.266038Z",
     "iopub.status.idle": "2022-02-23T12:34:10.272649Z",
     "shell.execute_reply": "2022-02-23T12:34:10.272138Z",
     "shell.execute_reply.started": "2022-02-10T17:05:37.006853Z"
    },
    "id": "Bv-xHtbslYa8",
    "papermill": {
     "duration": 0.069542,
     "end_time": "2022-02-23T12:34:10.272828",
     "exception": false,
     "start_time": "2022-02-23T12:34:10.203286",
     "status": "completed"
    },
    "tags": []
   },
   "outputs": [],
   "source": [
    "# Creating a new feature to mark the rows where there were null values in lifetime_order_count although this feature turned out to be not so important\n",
    "df['lifetime_order_count_null'] = np.where(df['lifetime_order_count'].isna() ,1,0)\n",
    "df_test['lifetime_order_count_null'] = np.where(df_test['lifetime_order_count'].isna() ,1,0)"
   ]
  },
  {
   "cell_type": "markdown",
   "id": "291f2d52",
   "metadata": {
    "papermill": {
     "duration": 0.058471,
     "end_time": "2022-02-23T12:34:10.388465",
     "exception": false,
     "start_time": "2022-02-23T12:34:10.329994",
     "status": "completed"
    },
    "tags": []
   },
   "source": [
    "## Dealing with Null values"
   ]
  },
  {
   "cell_type": "code",
   "execution_count": 14,
   "id": "8f3c11cf",
   "metadata": {
    "execution": {
     "iopub.execute_input": "2022-02-23T12:34:10.512011Z",
     "iopub.status.busy": "2022-02-23T12:34:10.511354Z",
     "iopub.status.idle": "2022-02-23T12:34:10.541951Z",
     "shell.execute_reply": "2022-02-23T12:34:10.541398Z",
     "shell.execute_reply.started": "2022-02-10T17:05:37.021535Z"
    },
    "id": "b7NZC4b6B9Di",
    "papermill": {
     "duration": 0.097033,
     "end_time": "2022-02-23T12:34:10.542111",
     "exception": false,
     "start_time": "2022-02-23T12:34:10.445078",
     "status": "completed"
    },
    "tags": []
   },
   "outputs": [],
   "source": [
    "# While initially going through the data I found some rows where I was able to manually impute some null values\n",
    "df.loc[df['rider_id']==12549,'delivered_orders'] = df.loc[df['rider_id']==12549,'delivered_orders'].fillna(value = 0)\n",
    "df_test.loc[df_test['rider_id']==12549,'delivered_orders'] = df_test.loc[df_test['rider_id']==12549,'delivered_orders'].fillna(value = 0)\n",
    "df.loc[df['rider_id']==14345,'delivered_orders'] = df.loc[df['rider_id']==14345,'delivered_orders'].fillna(value = 0)\n",
    "df.loc[df['rider_id']==16749,'delivered_orders'] = df.loc[df['rider_id']==16749,'delivered_orders'].fillna(value = 0)\n",
    "df.loc[df['order_id']==343888,'alloted_orders'] = df.loc[df['order_id']==343888,'alloted_orders'].fillna(value = 0)"
   ]
  },
  {
   "cell_type": "code",
   "execution_count": 15,
   "id": "0b964efd",
   "metadata": {
    "execution": {
     "iopub.execute_input": "2022-02-23T12:34:10.666121Z",
     "iopub.status.busy": "2022-02-23T12:34:10.663597Z",
     "iopub.status.idle": "2022-02-23T12:34:10.790178Z",
     "shell.execute_reply": "2022-02-23T12:34:10.789428Z",
     "shell.execute_reply.started": "2022-02-10T17:05:37.054389Z"
    },
    "papermill": {
     "duration": 0.191645,
     "end_time": "2022-02-23T12:34:10.790324",
     "exception": false,
     "start_time": "2022-02-23T12:34:10.598679",
     "status": "completed"
    },
    "tags": []
   },
   "outputs": [],
   "source": [
    "# Since I planned to use tree based models and I noticed certain groups of features based on null values row wise, I marked them in this manner\n",
    "df.loc[(df['lifetime_order_count'].isna() == True) & (df['alloted_orders'].isna() == True) & (df['delivered_orders'].isna() == True) & (df['session_time'].isna() == True),['lifetime_order_count','alloted_orders','delivered_orders','undelivered_orders']] = df.loc[(df['lifetime_order_count'].isna() == True) & (df['alloted_orders'].isna() == True) & (df['delivered_orders'].isna() == True) & (df['session_time'].isna() == True),['lifetime_order_count','alloted_orders','delivered_orders','undelivered_orders']].fillna(value = -1000)\n",
    "df_test.loc[(df_test['lifetime_order_count'].isna() == True) & (df_test['alloted_orders'].isna() == True) & (df_test['delivered_orders'].isna() == True) & (df_test['session_time'].isna() == True),['lifetime_order_count','alloted_orders','delivered_orders','undelivered_orders']] = df_test.loc[(df_test['lifetime_order_count'].isna() == True) & (df_test['alloted_orders'].isna() == True) & (df_test['delivered_orders'].isna() == True) & (df_test['session_time'].isna() == True),['lifetime_order_count','alloted_orders','delivered_orders','undelivered_orders']].fillna(value = -1000)"
   ]
  },
  {
   "cell_type": "code",
   "execution_count": 16,
   "id": "89984959",
   "metadata": {
    "execution": {
     "iopub.execute_input": "2022-02-23T12:34:10.912506Z",
     "iopub.status.busy": "2022-02-23T12:34:10.911835Z",
     "iopub.status.idle": "2022-02-23T12:34:10.953754Z",
     "shell.execute_reply": "2022-02-23T12:34:10.953156Z",
     "shell.execute_reply.started": "2022-02-10T17:05:37.173572Z"
    },
    "id": "vx8v6Y7sTYJ5",
    "papermill": {
     "duration": 0.107122,
     "end_time": "2022-02-23T12:34:10.953894",
     "exception": false,
     "start_time": "2022-02-23T12:34:10.846772",
     "status": "completed"
    },
    "tags": []
   },
   "outputs": [],
   "source": [
    "# Since I planned to use tree based models and I noticed certain groups of features based on null values row wise, I marked them in this manner\n",
    "df.loc[(df['lifetime_order_count'].isna() == True) & (df['alloted_orders'].isna() == True) & (df['delivered_orders'].isna() == True),['lifetime_order_count','alloted_orders','delivered_orders','undelivered_orders']] = df.loc[(df['lifetime_order_count'].isna() == True) & (df['alloted_orders'].isna() == True) & (df['delivered_orders'].isna() == True),['lifetime_order_count','alloted_orders','delivered_orders','undelivered_orders']].fillna(value = -999)\n",
    "df_test.loc[(df_test['lifetime_order_count'].isna() == True) & (df_test['alloted_orders'].isna() == True) & (df_test['delivered_orders'].isna() == True),['lifetime_order_count','alloted_orders','delivered_orders','undelivered_orders']]= df_test.loc[(df_test['lifetime_order_count'].isna() == True) & (df_test['alloted_orders'].isna() == True) & (df_test['delivered_orders'].isna() == True),['lifetime_order_count','alloted_orders','delivered_orders','undelivered_orders']].fillna(value = -999)"
   ]
  },
  {
   "cell_type": "code",
   "execution_count": 17,
   "id": "084c680d",
   "metadata": {
    "execution": {
     "iopub.execute_input": "2022-02-23T12:34:11.079862Z",
     "iopub.status.busy": "2022-02-23T12:34:11.079164Z",
     "iopub.status.idle": "2022-02-23T12:34:11.102668Z",
     "shell.execute_reply": "2022-02-23T12:34:11.103179Z",
     "shell.execute_reply.started": "2022-02-10T17:05:37.22099Z"
    },
    "papermill": {
     "duration": 0.091504,
     "end_time": "2022-02-23T12:34:11.103358",
     "exception": false,
     "start_time": "2022-02-23T12:34:11.011854",
     "status": "completed"
    },
    "tags": []
   },
   "outputs": [],
   "source": [
    "# Since I planned to use tree based models and I noticed certain groups of features based on null values row wise, I marked them in this manner\n",
    "df.loc[df['lifetime_order_count'].isna() == True, 'delivered_orders'] = df.loc[df['lifetime_order_count'].isna() == True, 'delivered_orders'].fillna(value = 0)\n",
    "df.loc[df['lifetime_order_count'].isna() == True, 'lifetime_order_count'] = df.loc[df['lifetime_order_count'].isna() == True, 'lifetime_order_count'].fillna(value = -998)\n",
    "df_test.loc[df_test['lifetime_order_count'].isna() == True, 'delivered_orders'] = df_test.loc[df_test['lifetime_order_count'].isna() == True, 'delivered_orders'].fillna(value = 0)\n",
    "df_test.loc[df_test['lifetime_order_count'].isna() == True, 'lifetime_order_count'] = df_test.loc[df_test['lifetime_order_count'].isna() == True, 'lifetime_order_count'].fillna(value = -998)"
   ]
  },
  {
   "cell_type": "code",
   "execution_count": 18,
   "id": "c14ade26",
   "metadata": {
    "execution": {
     "iopub.execute_input": "2022-02-23T12:34:11.221246Z",
     "iopub.status.busy": "2022-02-23T12:34:11.220596Z",
     "iopub.status.idle": "2022-02-23T12:34:11.340520Z",
     "shell.execute_reply": "2022-02-23T12:34:11.339845Z",
     "shell.execute_reply.started": "2022-02-10T17:05:37.249331Z"
    },
    "papermill": {
     "duration": 0.180892,
     "end_time": "2022-02-23T12:34:11.340661",
     "exception": false,
     "start_time": "2022-02-23T12:34:11.159769",
     "status": "completed"
    },
    "tags": []
   },
   "outputs": [],
   "source": [
    "# Not sure how useful this imputation trick was but used it anyway, a combination of groupy and transform\n",
    "for val in ['alloted_orders','delivered_orders','session_time']:\n",
    "    df[val] = df[val].fillna(df.groupby('rider_id')[val].transform('median'))\n",
    "    df_test[val] = df_test[val].fillna(df_test.groupby('rider_id')[val].transform('median'))"
   ]
  },
  {
   "cell_type": "code",
   "execution_count": 19,
   "id": "e1e6f8bd",
   "metadata": {
    "execution": {
     "iopub.execute_input": "2022-02-23T12:34:11.458027Z",
     "iopub.status.busy": "2022-02-23T12:34:11.457334Z",
     "iopub.status.idle": "2022-02-23T12:34:11.779328Z",
     "shell.execute_reply": "2022-02-23T12:34:11.779842Z",
     "shell.execute_reply.started": "2022-02-10T17:05:37.374174Z"
    },
    "id": "f-r0BZj6dqj-",
    "papermill": {
     "duration": 0.382554,
     "end_time": "2022-02-23T12:34:11.780042",
     "exception": false,
     "start_time": "2022-02-23T12:34:11.397488",
     "status": "completed"
    },
    "tags": []
   },
   "outputs": [],
   "source": [
    "# Simple Imputer with median strategy\n",
    "cols_log = ['alloted_orders','delivered_orders','session_time']\n",
    "imputer_log = SimpleImputer(strategy = 'median')\n",
    "train_iterimp = imputer_log.fit_transform(df[cols_log])\n",
    "test_iterimp = imputer_log.transform(df_test[cols_log])\n",
    "train_iterimp = pd.DataFrame(train_iterimp,columns = cols_log)\n",
    "test_iterimp = pd.DataFrame(test_iterimp,columns = cols_log)\n",
    "df = df.drop(cols_log, axis = 'columns')\n",
    "df = pd.concat([df,train_iterimp],axis = 'columns')\n",
    "df_test = df_test.drop(cols_log, axis = 'columns')\n",
    "df_test = pd.concat([df_test,test_iterimp],axis = 'columns')"
   ]
  },
  {
   "cell_type": "code",
   "execution_count": 20,
   "id": "00e0ecc4",
   "metadata": {
    "execution": {
     "iopub.execute_input": "2022-02-23T12:34:11.901655Z",
     "iopub.status.busy": "2022-02-23T12:34:11.900971Z",
     "iopub.status.idle": "2022-02-23T12:34:11.939796Z",
     "shell.execute_reply": "2022-02-23T12:34:11.939212Z",
     "shell.execute_reply.started": "2022-02-10T17:05:37.713062Z"
    },
    "id": "6FxfzrEMdqj-",
    "papermill": {
     "duration": 0.103147,
     "end_time": "2022-02-23T12:34:11.939943",
     "exception": false,
     "start_time": "2022-02-23T12:34:11.836796",
     "status": "completed"
    },
    "tags": []
   },
   "outputs": [],
   "source": [
    "# Since undelivered_orders = alloted_orders - delivered_orders, I filled the null values in this manner for rows not part of certain defined groups\n",
    "df.loc[(df['delivered_orders']!=-999)&(df['delivered_orders']!=-1000),'undelivered_orders'] = df.loc[(df['delivered_orders']!=-999)&(df['delivered_orders']!=-1000),'alloted_orders']-df.loc[(df['delivered_orders']!=-999)&(df['delivered_orders']!=-1000),'delivered_orders']\n",
    "df_test.loc[(df_test['delivered_orders']!=-999)&(df_test['delivered_orders']!=-1000),'undelivered_orders'] = df_test.loc[(df_test['delivered_orders']!=-999)&(df_test['delivered_orders']!=-1000),'alloted_orders']- df_test.loc[(df_test['delivered_orders']!=-999)&(df_test['delivered_orders']!=-1000),'delivered_orders']"
   ]
  },
  {
   "cell_type": "code",
   "execution_count": 21,
   "id": "6a327b14",
   "metadata": {
    "execution": {
     "iopub.execute_input": "2022-02-23T12:34:12.060486Z",
     "iopub.status.busy": "2022-02-23T12:34:12.059769Z",
     "iopub.status.idle": "2022-02-23T12:34:12.066599Z",
     "shell.execute_reply": "2022-02-23T12:34:12.066021Z",
     "shell.execute_reply.started": "2022-02-10T17:05:37.759769Z"
    },
    "id": "Jg4q-HfEdqj_",
    "papermill": {
     "duration": 0.070268,
     "end_time": "2022-02-23T12:34:12.066762",
     "exception": false,
     "start_time": "2022-02-23T12:34:11.996494",
     "status": "completed"
    },
    "tags": []
   },
   "outputs": [],
   "source": [
    "# Created a new feature but I dont think this was very useful\n",
    "df['total_distance'] = df['first_mile_distance']+df['last_mile_distance']\n",
    "df_test['total_distance'] = df_test['first_mile_distance']+df_test['last_mile_distance']"
   ]
  },
  {
   "cell_type": "code",
   "execution_count": 22,
   "id": "7daf1df5",
   "metadata": {
    "execution": {
     "iopub.execute_input": "2022-02-23T12:34:12.188216Z",
     "iopub.status.busy": "2022-02-23T12:34:12.187551Z",
     "iopub.status.idle": "2022-02-23T12:34:12.245930Z",
     "shell.execute_reply": "2022-02-23T12:34:12.245277Z",
     "shell.execute_reply.started": "2022-02-10T17:05:37.768938Z"
    },
    "id": "0KD-ogxTpuIw",
    "papermill": {
     "duration": 0.121737,
     "end_time": "2022-02-23T12:34:12.246079",
     "exception": false,
     "start_time": "2022-02-23T12:34:12.124342",
     "status": "completed"
    },
    "tags": []
   },
   "outputs": [],
   "source": [
    "# My code is not very organized.... anyway here I am creating a new feature from the datetime features \n",
    "hours = df['order_time'].dt.hour\n",
    "df['hours'] = hours\n",
    "hours_test = df_test['order_time'].dt.hour\n",
    "df_test['hours'] = hours_test"
   ]
  },
  {
   "cell_type": "code",
   "execution_count": 23,
   "id": "bd051393",
   "metadata": {
    "execution": {
     "iopub.execute_input": "2022-02-23T12:34:12.364742Z",
     "iopub.status.busy": "2022-02-23T12:34:12.364075Z",
     "iopub.status.idle": "2022-02-23T12:34:12.423183Z",
     "shell.execute_reply": "2022-02-23T12:34:12.422533Z",
     "shell.execute_reply.started": "2022-02-10T17:05:37.836579Z"
    },
    "papermill": {
     "duration": 0.120443,
     "end_time": "2022-02-23T12:34:12.423333",
     "exception": false,
     "start_time": "2022-02-23T12:34:12.302890",
     "status": "completed"
    },
    "tags": []
   },
   "outputs": [],
   "source": [
    "# and again\n",
    "df['month'] = df['order_date'].dt.month\n",
    "df_test['month'] = df_test['order_date'].dt.month"
   ]
  },
  {
   "cell_type": "code",
   "execution_count": 24,
   "id": "d6426079",
   "metadata": {
    "execution": {
     "iopub.execute_input": "2022-02-23T12:34:12.543883Z",
     "iopub.status.busy": "2022-02-23T12:34:12.543207Z",
     "iopub.status.idle": "2022-02-23T12:34:12.932517Z",
     "shell.execute_reply": "2022-02-23T12:34:12.931938Z",
     "shell.execute_reply.started": "2022-02-10T17:05:37.898916Z"
    },
    "id": "qHRMshooaDdv",
    "papermill": {
     "duration": 0.452664,
     "end_time": "2022-02-23T12:34:12.932659",
     "exception": false,
     "start_time": "2022-02-23T12:34:12.479995",
     "status": "completed"
    },
    "tags": []
   },
   "outputs": [],
   "source": [
    "# and again....\n",
    "df['is_weekend'] = df['day'].apply(lambda x : 1 if x in ['Saturday','Sunday'] else 0)\n",
    "df_test['is_weekend'] = df_test['day'].apply(lambda x : 1 if x in ['Saturday','Sunday'] else 0)"
   ]
  },
  {
   "cell_type": "code",
   "execution_count": 25,
   "id": "baf77237",
   "metadata": {
    "execution": {
     "iopub.execute_input": "2022-02-23T12:34:13.057047Z",
     "iopub.status.busy": "2022-02-23T12:34:13.056369Z",
     "iopub.status.idle": "2022-02-23T12:34:58.283052Z",
     "shell.execute_reply": "2022-02-23T12:34:58.282204Z",
     "shell.execute_reply.started": "2022-02-10T17:05:38.284778Z"
    },
    "papermill": {
     "duration": 45.294018,
     "end_time": "2022-02-23T12:34:58.283226",
     "exception": false,
     "start_time": "2022-02-23T12:34:12.989208",
     "status": "completed"
    },
    "tags": []
   },
   "outputs": [],
   "source": [
    "# Features to calculate allotment and acceptance delay (there were some negative values too...clearly an error and these were marked using a separate feature)\n",
    "allotment_delay = []\n",
    "acceptance_delay = []\n",
    "for i in range(len(df.index)):\n",
    "    allotment_delay.append((df.loc[i,'allot_time'] - df.loc[i,'order_time']).total_seconds())\n",
    "df['allotment_delay'] = allotment_delay\n",
    "for i in range(len(df.index)):\n",
    "    acceptance_delay.append((df.loc[i,'accept_time'] - df.loc[i,'allot_time']).total_seconds())\n",
    "df['acceptance_delay'] = acceptance_delay"
   ]
  },
  {
   "cell_type": "code",
   "execution_count": 26,
   "id": "85471906",
   "metadata": {
    "execution": {
     "iopub.execute_input": "2022-02-23T12:34:58.403278Z",
     "iopub.status.busy": "2022-02-23T12:34:58.402233Z",
     "iopub.status.idle": "2022-02-23T12:35:12.916173Z",
     "shell.execute_reply": "2022-02-23T12:35:12.915542Z",
     "shell.execute_reply.started": "2022-02-10T17:06:24.270562Z"
    },
    "papermill": {
     "duration": 14.575205,
     "end_time": "2022-02-23T12:35:12.916331",
     "exception": false,
     "start_time": "2022-02-23T12:34:58.341126",
     "status": "completed"
    },
    "tags": []
   },
   "outputs": [],
   "source": [
    "# Features to calculate allotment and acceptance delay (there were some negative values too...clearly an error and these were marked using a separate feature)\n",
    "allotment_delay = []\n",
    "acceptance_delay = []\n",
    "for i in range(len(df_test.index)):\n",
    "    allotment_delay.append((df_test.loc[i,'allot_time'] - df_test.loc[i,'order_time']).total_seconds())\n",
    "df_test['allotment_delay'] = allotment_delay\n",
    "for i in range(len(df_test.index)):\n",
    "    acceptance_delay.append((df_test.loc[i,'accept_time'] - df_test.loc[i,'allot_time']).total_seconds())\n",
    "df_test['acceptance_delay'] = acceptance_delay"
   ]
  },
  {
   "cell_type": "code",
   "execution_count": 27,
   "id": "7d16c58b",
   "metadata": {
    "execution": {
     "iopub.execute_input": "2022-02-23T12:35:13.037296Z",
     "iopub.status.busy": "2022-02-23T12:35:13.036618Z",
     "iopub.status.idle": "2022-02-23T12:35:13.043222Z",
     "shell.execute_reply": "2022-02-23T12:35:13.042553Z",
     "shell.execute_reply.started": "2022-02-10T17:06:39.011458Z"
    },
    "papermill": {
     "duration": 0.070369,
     "end_time": "2022-02-23T12:35:13.043359",
     "exception": false,
     "start_time": "2022-02-23T12:35:12.972990",
     "status": "completed"
    },
    "tags": []
   },
   "outputs": [],
   "source": [
    "# Feature to mark the negative values seen in acceptance_delay\n",
    "df['ad_neg'] = np.where(df['acceptance_delay']<0 ,1,0)\n",
    "df_test['ad_neg'] = np.where(df_test['acceptance_delay']<0 ,1,0)"
   ]
  },
  {
   "cell_type": "code",
   "execution_count": 28,
   "id": "e904e19a",
   "metadata": {
    "execution": {
     "iopub.execute_input": "2022-02-23T12:35:13.167356Z",
     "iopub.status.busy": "2022-02-23T12:35:13.166682Z",
     "iopub.status.idle": "2022-02-23T12:35:13.467927Z",
     "shell.execute_reply": "2022-02-23T12:35:13.468408Z",
     "shell.execute_reply.started": "2022-02-10T17:06:39.021989Z"
    },
    "papermill": {
     "duration": 0.36711,
     "end_time": "2022-02-23T12:35:13.468585",
     "exception": false,
     "start_time": "2022-02-23T12:35:13.101475",
     "status": "completed"
    },
    "tags": []
   },
   "outputs": [],
   "source": [
    "# Simple Imputer with median strategy to deal with null values in acceptance_delay\n",
    "cols_log = ['acceptance_delay']\n",
    "imputer_log = SimpleImputer(strategy = 'median')\n",
    "train_iterimp = imputer_log.fit_transform(df[cols_log])\n",
    "test_iterimp = imputer_log.transform(df_test[cols_log])\n",
    "train_iterimp = pd.DataFrame(train_iterimp,columns = cols_log)\n",
    "test_iterimp = pd.DataFrame(test_iterimp,columns = cols_log)\n",
    "df = df.drop(cols_log, axis = 'columns')\n",
    "df = pd.concat([df,train_iterimp],axis = 'columns')\n",
    "df_test = df_test.drop(cols_log, axis = 'columns')\n",
    "df_test = pd.concat([df_test,test_iterimp],axis = 'columns')"
   ]
  },
  {
   "cell_type": "code",
   "execution_count": 29,
   "id": "c32d3974",
   "metadata": {
    "execution": {
     "iopub.execute_input": "2022-02-23T12:35:13.588847Z",
     "iopub.status.busy": "2022-02-23T12:35:13.588204Z",
     "iopub.status.idle": "2022-02-23T12:35:13.787929Z",
     "shell.execute_reply": "2022-02-23T12:35:13.788408Z",
     "shell.execute_reply.started": "2022-02-10T17:06:39.353278Z"
    },
    "id": "y_TS07clpuIx",
    "papermill": {
     "duration": 0.263166,
     "end_time": "2022-02-23T12:35:13.788586",
     "exception": false,
     "start_time": "2022-02-23T12:35:13.525420",
     "status": "completed"
    },
    "tags": []
   },
   "outputs": [],
   "source": [
    "# Defined a function to define the part of the day when the followwing events took place\n",
    "def daypart(hour):\n",
    "    if hour in [6,7,8,9,10]:\n",
    "        return \"morning\"\n",
    "    elif hour in [14,11,12,13]:\n",
    "        return \"noon\"\n",
    "    elif hour in [15,16,17,18]:\n",
    "        return \"afternoon\"\n",
    "    else: return \"night\"\n",
    "dayparts = hours.apply(daypart)\n",
    "df['dayparts'] = dayparts\n",
    "dayparts_test = hours_test.apply(daypart)\n",
    "df_test['dayparts'] = dayparts_test"
   ]
  },
  {
   "cell_type": "code",
   "execution_count": 30,
   "id": "396f310a",
   "metadata": {
    "execution": {
     "iopub.execute_input": "2022-02-23T12:35:13.905324Z",
     "iopub.status.busy": "2022-02-23T12:35:13.904354Z",
     "iopub.status.idle": "2022-02-23T12:35:14.085012Z",
     "shell.execute_reply": "2022-02-23T12:35:14.085535Z",
     "shell.execute_reply.started": "2022-02-10T17:06:39.562402Z"
    },
    "id": "GxsV85PZpuIx",
    "papermill": {
     "duration": 0.24076,
     "end_time": "2022-02-23T12:35:14.085736",
     "exception": false,
     "start_time": "2022-02-23T12:35:13.844976",
     "status": "completed"
    },
    "tags": []
   },
   "outputs": [],
   "source": [
    "# Dropping some redundant features\n",
    "df = df.drop(['order_time','order_date','allot_time','accept_time'],axis = 'columns')\n",
    "df_test = df_test.drop(['order_time','order_date','allot_time','accept_time'],axis = 'columns')"
   ]
  },
  {
   "cell_type": "code",
   "execution_count": 31,
   "id": "a702e018",
   "metadata": {
    "execution": {
     "iopub.execute_input": "2022-02-23T12:35:14.208494Z",
     "iopub.status.busy": "2022-02-23T12:35:14.207792Z",
     "iopub.status.idle": "2022-02-23T12:35:14.210999Z",
     "shell.execute_reply": "2022-02-23T12:35:14.210329Z",
     "shell.execute_reply.started": "2022-02-10T17:06:39.755007Z"
    },
    "id": "6bcutLlIpuIy",
    "papermill": {
     "duration": 0.067508,
     "end_time": "2022-02-23T12:35:14.211147",
     "exception": false,
     "start_time": "2022-02-23T12:35:14.143639",
     "status": "completed"
    },
    "tags": []
   },
   "outputs": [],
   "source": [
    "# Useless Cell tbh \n",
    "useless_features = ['order_id','cancelled','kfold','stacking_kfold']\n",
    "useful_features = [f for f in df.columns if f not in useless_features]\n",
    "object_cols = ['reassignment_method','reassigned_order','first_ismore','last_ismore','not_accepted','undelivered_orders','month','day','is_weekend','hours','dayparts','date','combined_reassignment']\n",
    "non_numerical_cols = object_cols + useless_features\n",
    "numerical_cols = [c for c in df.columns if c not in non_numerical_cols ]"
   ]
  },
  {
   "cell_type": "code",
   "execution_count": 32,
   "id": "b140d725",
   "metadata": {
    "execution": {
     "iopub.execute_input": "2022-02-23T12:35:14.378585Z",
     "iopub.status.busy": "2022-02-23T12:35:14.377852Z",
     "iopub.status.idle": "2022-02-23T12:35:14.575731Z",
     "shell.execute_reply": "2022-02-23T12:35:14.575145Z",
     "shell.execute_reply.started": "2022-02-10T17:06:39.763989Z"
    },
    "id": "lu5KCoWqdqkB",
    "papermill": {
     "duration": 0.307584,
     "end_time": "2022-02-23T12:35:14.575874",
     "exception": false,
     "start_time": "2022-02-23T12:35:14.268290",
     "status": "completed"
    },
    "tags": []
   },
   "outputs": [],
   "source": [
    "# Label Encoding using map function\n",
    "df['dayparts'] = df['dayparts'].map({'night':0,'morning':1,'noon':2,'afternoon':3})\n",
    "df_test['dayparts'] = df_test['dayparts'].map({'night':0,'morning':1,'noon':2,'afternoon':3})\n",
    "df['reassignment_method'] = df['reassignment_method'].map({'null':0,'auto':1,'manual':2})\n",
    "df_test['reassignment_method'] = df_test['reassignment_method'].map({'null':0,'auto':1,'manual':2})\n",
    "df['day'] = df['day'].map({'Monday':0,'Tuesday':1,'Wednesday':2,'Thursday':3,'Friday':4,'Saturday':5,'Sunday':6})\n",
    "df_test['day'] = df_test['day'].map({'Monday':0,'Tuesday':1,'Wednesday':2,'Thursday':3,'Friday':4,'Saturday':5,'Sunday':6})\n"
   ]
  },
  {
   "cell_type": "code",
   "execution_count": 33,
   "id": "36c1c619",
   "metadata": {
    "execution": {
     "iopub.execute_input": "2022-02-23T12:35:14.698822Z",
     "iopub.status.busy": "2022-02-23T12:35:14.698091Z",
     "iopub.status.idle": "2022-02-23T12:35:14.742435Z",
     "shell.execute_reply": "2022-02-23T12:35:14.741829Z",
     "shell.execute_reply.started": "2022-02-10T17:06:40.021093Z"
    },
    "id": "FXmZqsQSdqkC",
    "papermill": {
     "duration": 0.109789,
     "end_time": "2022-02-23T12:35:14.742598",
     "exception": false,
     "start_time": "2022-02-23T12:35:14.632809",
     "status": "completed"
    },
    "tags": []
   },
   "outputs": [],
   "source": [
    "# Changing dtypes\n",
    "df['undelivered_orders'] = df['undelivered_orders'].astype('int')\n",
    "df['reassigned_order'] = df['reassigned_order'].astype('int')\n",
    "df['undelivered_orders'] = df['undelivered_orders'].astype('int')\n",
    "df['day'] = df['day'].astype('int')\n",
    "df['dayparts'] = df['dayparts'].astype('int')\n",
    "df['reassignment_method'] = df['reassignment_method'].astype('int')\n",
    "\n",
    "df_test['undelivered_orders'] =df_test['undelivered_orders'].astype('int')\n",
    "df_test['reassigned_order'] = df_test['reassigned_order'].astype('int')\n",
    "df_test['undelivered_orders'] = df_test['undelivered_orders'].astype('int')\n",
    "df_test['day'] = df_test['day'].astype('int')\n",
    "df_test['dayparts'] = df_test['dayparts'].astype('int')\n",
    "df_test['reassignment_method'] = df_test['reassignment_method'].astype('int')"
   ]
  },
  {
   "cell_type": "code",
   "execution_count": 34,
   "id": "d0de72be",
   "metadata": {
    "execution": {
     "iopub.execute_input": "2022-02-23T12:35:14.860479Z",
     "iopub.status.busy": "2022-02-23T12:35:14.859793Z",
     "iopub.status.idle": "2022-02-23T12:35:15.564950Z",
     "shell.execute_reply": "2022-02-23T12:35:15.565494Z",
     "shell.execute_reply.started": "2022-02-10T17:06:40.074004Z"
    },
    "id": "85JHdra9-kkU",
    "papermill": {
     "duration": 0.765549,
     "end_time": "2022-02-23T12:35:15.565668",
     "exception": false,
     "start_time": "2022-02-23T12:35:14.800119",
     "status": "completed"
    },
    "tags": []
   },
   "outputs": [],
   "source": [
    "# Binning the Last Mile Distance feature (idk how useful this was) \n",
    "def bin_last(x):\n",
    "    if x>0 and x<0.45:\n",
    "        return 0\n",
    "    elif x>=0.45 and x<0.9:\n",
    "        return 1\n",
    "    elif x>=0.9 and x<1.34:\n",
    "        return 2\n",
    "    elif x>= 1.34 and x<1.79:\n",
    "        return 3\n",
    "    elif x>=1.79 and x<2.24:\n",
    "        return 4\n",
    "    elif x>=2.24 and x<2.69:\n",
    "        return 5\n",
    "    elif x>=2.69 and x<2.52:\n",
    "        return 6\n",
    "    elif x>= 2.52and x<3.14:\n",
    "        return 7\n",
    "    elif x>=3.14 and x<3.59:\n",
    "        return 8\n",
    "    elif x>=3.59 and x<4.03:\n",
    "        return 9\n",
    "    elif x>= 4.03and x<4.48:\n",
    "        return 10\n",
    "    elif x>=4.48 and x<4.93:\n",
    "        return 11\n",
    "    elif x>=4.93 and x<5.38:\n",
    "        return 12\n",
    "    elif x>= 5.38and x<6.27:\n",
    "        return 13\n",
    "    else:\n",
    "        return 14\n",
    "df['bin_last'] = df['last_mile_distance'].apply(bin_last)\n",
    "def bin_last_test(x):\n",
    "    if x>0 and x<0.41:\n",
    "        return 0\n",
    "    elif x>=0.41 and x<0.83:\n",
    "        return 1\n",
    "    elif x>=0.83 and x<1.24:\n",
    "        return 2\n",
    "    elif x>= 1.24 and x<1.65:\n",
    "        return 3\n",
    "    elif x>=1.65 and x<2.07:\n",
    "        return 4\n",
    "    elif x>=2.07 and x<2.48:\n",
    "        return 5\n",
    "    elif x>=2.48 and x<2.90:\n",
    "        return 6\n",
    "    elif x>= 2.90 and x<3.31:\n",
    "        return 7\n",
    "    elif x>=3.31 and x<3.72:\n",
    "        return 8\n",
    "    elif x>=3.72 and x<4.14:\n",
    "        return 9\n",
    "    elif x>= 4.14 and x<4.55:\n",
    "        return 10\n",
    "    elif x>=4.55 and x<4.96:\n",
    "        return 11\n",
    "    elif x>=4.93 and x<5.38:\n",
    "        return 12\n",
    "    elif x>= 5.38and x<5.79:\n",
    "        return 13\n",
    "    else:\n",
    "        return 14\n",
    "df_test['bin_last'] = df_test['last_mile_distance'].apply(bin_last_test)"
   ]
  },
  {
   "cell_type": "markdown",
   "id": "31f6c5ac",
   "metadata": {
    "papermill": {
     "duration": 0.057083,
     "end_time": "2022-02-23T12:35:15.680020",
     "exception": false,
     "start_time": "2022-02-23T12:35:15.622937",
     "status": "completed"
    },
    "tags": []
   },
   "source": [
    "# The Magical Feature Engineering Step"
   ]
  },
  {
   "cell_type": "markdown",
   "id": "822fd7cc",
   "metadata": {
    "papermill": {
     "duration": 0.056281,
     "end_time": "2022-02-23T12:35:15.793279",
     "exception": false,
     "start_time": "2022-02-23T12:35:15.736998",
     "status": "completed"
    },
    "tags": []
   },
   "source": [
    " ##### Here I submitted all features created by the method because I had just one submission left and didnt wanna risk it. The main score improving features were: 'undelivered_orders_mean'(MAINNNNNNNNNNN), 'last_mile_distance_min','first_mile_distance_min','lifetime_order_count_null_sum','lifetime_order_count_null_mean' (based on correlation with target feature done in separate notebook)"
   ]
  },
  {
   "cell_type": "code",
   "execution_count": 35,
   "id": "1100921b",
   "metadata": {
    "execution": {
     "iopub.execute_input": "2022-02-23T12:35:15.911388Z",
     "iopub.status.busy": "2022-02-23T12:35:15.910713Z",
     "iopub.status.idle": "2022-02-23T12:35:16.000937Z",
     "shell.execute_reply": "2022-02-23T12:35:16.001520Z",
     "shell.execute_reply.started": "2022-02-10T17:06:40.751273Z"
    },
    "papermill": {
     "duration": 0.150438,
     "end_time": "2022-02-23T12:35:16.001713",
     "exception": false,
     "start_time": "2022-02-23T12:35:15.851275",
     "status": "completed"
    },
    "tags": []
   },
   "outputs": [],
   "source": [
    "numeric_cols = [   \n",
    "'rider_id',                       \n",
    "'first_mile_distance',            \n",
    "'last_mile_distance',            \n",
    "'lifetime_order_count',           \n",
    "'alloted_orders',                 \n",
    "'delivered_orders',               \n",
    "'session_time','total_distance','acceptance_delay','allotment_delay'\n",
    "]\n",
    "categorical_cols = [\n",
    "'rider_id',                      \n",
    "'undelivered_orders',                      \n",
    "'reassignment_method',           \n",
    "'reassignment_reason',            \n",
    "'reassigned_order',              \n",
    "'day',                            \n",
    "'hours',                          \n",
    "'dayparts',                      \n",
    "'lifetime_order_count_null','ad_neg','is_weekend','bin_last']\n",
    "\n",
    "numeric_df = df[numeric_cols]\n",
    "categorical = df[categorical_cols]\n",
    "numeric_df_test = df_test[numeric_cols]\n",
    "categorical_test = df_test[categorical_cols]"
   ]
  },
  {
   "cell_type": "code",
   "execution_count": 36,
   "id": "252d5c39",
   "metadata": {
    "execution": {
     "iopub.execute_input": "2022-02-23T12:35:16.121094Z",
     "iopub.status.busy": "2022-02-23T12:35:16.120403Z",
     "iopub.status.idle": "2022-02-23T12:35:17.166753Z",
     "shell.execute_reply": "2022-02-23T12:35:17.166155Z",
     "shell.execute_reply.started": "2022-02-10T17:06:40.840052Z"
    },
    "papermill": {
     "duration": 1.106902,
     "end_time": "2022-02-23T12:35:17.166925",
     "exception": false,
     "start_time": "2022-02-23T12:35:16.060023",
     "status": "completed"
    },
    "tags": []
   },
   "outputs": [],
   "source": [
    "agg = numeric_df.groupby('rider_id').agg(['count', 'mean', 'max', 'min', 'sum']).reset_index()\n",
    "agg.columns = ['rider_id','first_mile_distance_count','first_mile_distance_mean','first_mile_distance_max','first_mile_distance_min','first_mile_distance_sum',\n",
    "               'last_mile_distance_count','last_mile_distance_mean','last_mile_distance_max','last_mile_distance_min','last_mile_distance_sum',\n",
    "               'lifetime_order_count_count','lifetime_order_count_mean','lifetime_order_count_max','lifetime_order_count_min','lifetime_order_count_sum',\n",
    "               'alloted_orders_count','alloted_orders_mean','alloted_orders_max','alloted_orders_min','alloted_orders_sum',\n",
    "               'delivered_orders_count','delivered_orders_mean','delivered_orders_max','delivered_orders_min','delivered_orders_sum',\n",
    "               'session_time_count','session_time_mean','session_time_max','session_time_min','session_time_sum',\n",
    "               'total_distance_count','total_distance_mean','total_distance_max','total_distance_min','total_distance_sum',\n",
    "               'acceptance_delay_count','acceptance_delay_mean','acceptance_delay_max','acceptance_delay_min','acceptance_delay_sum',\n",
    "               'allotment_delay_count','allotment_delay_mean','allotment_delay_max','allotment_delay_min','allotment_delay_sum'\n",
    "              ]\n",
    "df = df.merge(agg,how = 'left', on = 'rider_id')"
   ]
  },
  {
   "cell_type": "code",
   "execution_count": 37,
   "id": "1b8fe39d",
   "metadata": {
    "execution": {
     "iopub.execute_input": "2022-02-23T12:35:17.287023Z",
     "iopub.status.busy": "2022-02-23T12:35:17.286326Z",
     "iopub.status.idle": "2022-02-23T12:35:17.611249Z",
     "shell.execute_reply": "2022-02-23T12:35:17.611760Z",
     "shell.execute_reply.started": "2022-02-10T17:06:41.891169Z"
    },
    "papermill": {
     "duration": 0.386522,
     "end_time": "2022-02-23T12:35:17.611960",
     "exception": false,
     "start_time": "2022-02-23T12:35:17.225438",
     "status": "completed"
    },
    "tags": []
   },
   "outputs": [],
   "source": [
    "agg = numeric_df_test.groupby('rider_id').agg(['count', 'mean', 'max', 'min', 'sum']).reset_index()\n",
    "agg.columns = ['rider_id','first_mile_distance_count','first_mile_distance_mean','first_mile_distance_max','first_mile_distance_min','first_mile_distance_sum',\n",
    "               'last_mile_distance_count','last_mile_distance_mean','last_mile_distance_max','last_mile_distance_min','last_mile_distance_sum',\n",
    "               'lifetime_order_count_count','lifetime_order_count_mean','lifetime_order_count_max','lifetime_order_count_min','lifetime_order_count_sum',\n",
    "               'alloted_orders_count','alloted_orders_mean','alloted_orders_max','alloted_orders_min','alloted_orders_sum',\n",
    "               'delivered_orders_count','delivered_orders_mean','delivered_orders_max','delivered_orders_min','delivered_orders_sum',\n",
    "               'session_time_count','session_time_mean','session_time_max','session_time_min','session_time_sum',\n",
    "               'total_distance_count','total_distance_mean','total_distance_max','total_distance_min','total_distance_sum',\n",
    "               'acceptance_delay_count','acceptance_delay_mean','acceptance_delay_max','acceptance_delay_min','acceptance_delay_sum',\n",
    "               'allotment_delay_count','allotment_delay_mean','allotment_delay_max','allotment_delay_min','allotment_delay_sum'\n",
    "              ]\n",
    "df_test = df_test.merge(agg,how = 'left', on = 'rider_id')"
   ]
  },
  {
   "cell_type": "code",
   "execution_count": 38,
   "id": "3a456d59",
   "metadata": {
    "execution": {
     "iopub.execute_input": "2022-02-23T12:35:17.730189Z",
     "iopub.status.busy": "2022-02-23T12:35:17.729505Z",
     "iopub.status.idle": "2022-02-23T12:35:18.441847Z",
     "shell.execute_reply": "2022-02-23T12:35:18.441215Z",
     "shell.execute_reply.started": "2022-02-10T17:06:42.219831Z"
    },
    "papermill": {
     "duration": 0.772314,
     "end_time": "2022-02-23T12:35:18.441984",
     "exception": false,
     "start_time": "2022-02-23T12:35:17.669670",
     "status": "completed"
    },
    "tags": []
   },
   "outputs": [],
   "source": [
    "cat = categorical.groupby('rider_id').agg(['sum', 'mean'])\n",
    "cat.columns = ['rider_id'\n",
    "              'undelivered_orders_sum','undelivered_orders_mean',\n",
    "               'reassignment_method_sum','reassignment_method_mean',\n",
    "               'reassignment_reason_sum','reassignment_reason_mean',\n",
    "              'reassigned_order_sum','reassigned_order_mean',\n",
    "              'day_sum','day_mean',\n",
    "              'hours_sum','hours_mean',\n",
    "              'dayparts_sum','dayparts_mean',\n",
    "              'lifetime_order_count_null_sum','lifetime_order_count_null_mean',\n",
    "              'ad_neg_sum','ad_neg_mean','is_weekend_sum','is_weekend_mean','bin_last_sum','bin_last_mean']\n",
    "df = df.merge(cat,how = 'left', on = 'rider_id')"
   ]
  },
  {
   "cell_type": "code",
   "execution_count": 39,
   "id": "c29491cb",
   "metadata": {
    "execution": {
     "iopub.execute_input": "2022-02-23T12:35:18.558380Z",
     "iopub.status.busy": "2022-02-23T12:35:18.557613Z",
     "iopub.status.idle": "2022-02-23T12:35:18.716937Z",
     "shell.execute_reply": "2022-02-23T12:35:18.716389Z",
     "shell.execute_reply.started": "2022-02-10T17:06:43.041873Z"
    },
    "papermill": {
     "duration": 0.218209,
     "end_time": "2022-02-23T12:35:18.717094",
     "exception": false,
     "start_time": "2022-02-23T12:35:18.498885",
     "status": "completed"
    },
    "tags": []
   },
   "outputs": [],
   "source": [
    "cat = categorical_test.groupby('rider_id').agg(['sum', 'mean'])\n",
    "cat.columns = ['rider_id'\n",
    "              'undelivered_orders_sum','undelivered_orders_mean',\n",
    "               'reassignment_method_sum','reassignment_method_mean',\n",
    "               'reassignment_reason_sum','reassignment_reason_mean',\n",
    "              'reassigned_order_sum','reassigned_order_mean',\n",
    "              'day_sum','day_mean',\n",
    "              'hours_sum','hours_mean',\n",
    "              'dayparts_sum','dayparts_mean',\n",
    "              'lifetime_order_count_null_sum','lifetime_order_count_null_mean',\n",
    "              'ad_neg_sum','ad_neg_mean','is_weekend_sum','is_weekend_mean','bin_last_sum','bin_last_mean']\n",
    "df_test = df_test.merge(cat,how = 'left', on = 'rider_id')"
   ]
  },
  {
   "cell_type": "code",
   "execution_count": 40,
   "id": "da046715",
   "metadata": {
    "execution": {
     "iopub.execute_input": "2022-02-23T12:35:18.833900Z",
     "iopub.status.busy": "2022-02-23T12:35:18.833223Z",
     "iopub.status.idle": "2022-02-23T12:35:18.836440Z",
     "shell.execute_reply": "2022-02-23T12:35:18.837028Z",
     "shell.execute_reply.started": "2022-02-10T17:06:43.2207Z"
    },
    "papermill": {
     "duration": 0.06334,
     "end_time": "2022-02-23T12:35:18.837199",
     "exception": false,
     "start_time": "2022-02-23T12:35:18.773859",
     "status": "completed"
    },
    "tags": []
   },
   "outputs": [],
   "source": [
    "# agg = df[['rider_id','last_mile_distance','first_mile_distance','total_distance']].groupby('rider_id').agg('min').reset_index()\n",
    "# df = df.merge(agg,on = 'rider_id',how = 'left')\n",
    "# cat = df[['rider_id','undelivered_orders']].groupby('rider_id').agg('mean').reset_index()\n",
    "# df = df.merge(cat,on = 'rider_id',how = 'left')\n",
    "# cat_new = df[['rider_id','lifetime_order_count_null']].groupby('rider_id').agg(['sum','mean']).reset_index()\n",
    "# cat_new.columns = ['rider_id','lifeime_order_count_null_sum','lifetime_order_count_null_mean']\n",
    "# df = df.merge(cat_new,on = 'rider_id',how = 'left')\n",
    "# agg = df_test[['rider_id','last_mile_distance','first_mile_distance','total_distance']].groupby('rider_id').agg('min').reset_index()\n",
    "# df_test = df_test.merge(agg,on = 'rider_id',how = 'left')\n",
    "# cat = df_test[['rider_id','undelivered_orders']].groupby('rider_id').agg('mean').reset_index()\n",
    "# df_test = df_test.merge(cat,on = 'rider_id',how = 'left')\n",
    "# cat_new = df_test[['rider_id','lifetime_order_count_null']].groupby('rider_id').agg(['sum','mean']).reset_index()\n",
    "# cat_new.columns = ['rider_id','lifeime_order_count_null_sum','lifetime_order_count_null_mean']\n",
    "# df_test = df_test.merge(cat_new,on = 'rider_id',how = 'left')"
   ]
  },
  {
   "cell_type": "code",
   "execution_count": 41,
   "id": "98650e9d",
   "metadata": {
    "execution": {
     "iopub.execute_input": "2022-02-23T12:35:18.955853Z",
     "iopub.status.busy": "2022-02-23T12:35:18.955170Z",
     "iopub.status.idle": "2022-02-23T12:35:18.958625Z",
     "shell.execute_reply": "2022-02-23T12:35:18.959127Z",
     "shell.execute_reply.started": "2022-02-10T17:06:43.297854Z"
    },
    "id": "iaIkT7CIvuyd",
    "papermill": {
     "duration": 0.064825,
     "end_time": "2022-02-23T12:35:18.959290",
     "exception": false,
     "start_time": "2022-02-23T12:35:18.894465",
     "status": "completed"
    },
    "tags": []
   },
   "outputs": [],
   "source": [
    "# Undersampling because the training data is large and imbalanced. Tried normally and with oversampling too.\n",
    "undersample = RandomUnderSampler(sampling_strategy = 0.5,random_state = 42)"
   ]
  },
  {
   "cell_type": "code",
   "execution_count": 42,
   "id": "d98fe9dc",
   "metadata": {
    "execution": {
     "iopub.execute_input": "2022-02-23T12:35:19.077285Z",
     "iopub.status.busy": "2022-02-23T12:35:19.076618Z",
     "iopub.status.idle": "2022-02-23T12:35:19.081326Z",
     "shell.execute_reply": "2022-02-23T12:35:19.081820Z",
     "shell.execute_reply.started": "2022-02-10T17:08:08.220033Z"
    },
    "id": "zG9a5xBldqkD",
    "outputId": "e542e47b-efc8-428a-f159-019dd89bc83c",
    "papermill": {
     "duration": 0.066058,
     "end_time": "2022-02-23T12:35:19.081983",
     "exception": false,
     "start_time": "2022-02-23T12:35:19.015925",
     "status": "completed"
    },
    "tags": []
   },
   "outputs": [],
   "source": [
    "# Used this cell to test various models\n",
    "\n",
    "\n",
    "# final_predictions = []\n",
    "# for fold in range(5):\n",
    "#     xtrain =  df[df.kfold != fold].reset_index(drop=True)\n",
    "#     xvalid = df[df.kfold == fold].reset_index(drop=True)\n",
    "#     xtest = df_test.copy()\n",
    "#     useless_features = ['order_id','cancelled','kfold','stacking_kfold']\n",
    "#     useful_features = [f for f in df.columns if f not in useless_features]\n",
    "    \n",
    "\n",
    "\n",
    "#     ytrain = xtrain['cancelled']\n",
    "#     yvalid = xvalid['cancelled']\n",
    "    \n",
    "#     useless_features = ['order_id','cancelled','kfold','stacking_kfold']\n",
    "#     useful_features = [f for f in xtrain.columns if f not in useless_features]\n",
    "#     useful_features_valid = [f for f in xvalid.columns if f not in useless_features]\n",
    "#     xtrain = xtrain[useful_features]\n",
    "#     xvalid = xvalid[useful_features_valid]\n",
    "    \n",
    "#     useless_features = ['order_id','cancelled','kfold','stacking_kfold']\n",
    "#     useful_features = [f for f in df_test.columns if f not in useless_features]\n",
    "    \n",
    "#     xtest = xtest[useful_features]\n",
    "        \n",
    "#     xtrain,ytrain = undersample.fit_resample(xtrain,ytrain)\n",
    "    \n",
    "#     model = lgb.LGBMClassifier()\n",
    "\n",
    "#     model.fit(xtrain, ytrain)\n",
    "#     #     model = LogisticRegression()\n",
    "#     #     model.fit(xtrain,ytrain)\n",
    "#     preds_valid = model.predict_proba(xvalid)\n",
    "#     test_preds = model.predict_proba(xtest)[:,1]\n",
    "#     final_predictions.append(test_preds)\n",
    "#     #     perm_importance = permutation_importance(model,xvalid,yvalid)\n",
    "#     #     pd.DataFrame(model.get_fscore().items(), columns=['feature','importance']).sort_values('importance', ascending=False)\n",
    "#     print(model.feature_importances_)\n",
    "#     plt.figure(figsize = (10,10))\n",
    "#     plt.barh(useful_features,model.feature_importances_)\n",
    "#     #     print(model.get_booster().get_fscore(importance_type=\"gain\"))\n",
    "#     print(fold, roc_auc_score(yvalid, preds_valid[:,1]))\n",
    "# # import eli5\n",
    "# # from eli5.sklearn import PermutationImportance\n",
    "# # perm = PermutationImportance(model, random_state=1).fit(xvalid,yvalid)\n",
    "# # eli5.show_weights(perm, feature_names = xtrain.columns.tolist())"
   ]
  },
  {
   "cell_type": "markdown",
   "id": "df0151fb",
   "metadata": {
    "papermill": {
     "duration": 0.057088,
     "end_time": "2022-02-23T12:35:19.196806",
     "exception": false,
     "start_time": "2022-02-23T12:35:19.139718",
     "status": "completed"
    },
    "tags": []
   },
   "source": [
    "# Model Stacking"
   ]
  },
  {
   "cell_type": "code",
   "execution_count": 43,
   "id": "e20ec784",
   "metadata": {
    "execution": {
     "iopub.execute_input": "2022-02-23T12:35:19.320511Z",
     "iopub.status.busy": "2022-02-23T12:35:19.319784Z",
     "iopub.status.idle": "2022-02-23T12:39:47.733721Z",
     "shell.execute_reply": "2022-02-23T12:39:47.734485Z",
     "shell.execute_reply.started": "2022-02-10T17:09:03.67933Z"
    },
    "id": "5rq_8FVgdqkD",
    "outputId": "f8014de8-457b-41d4-8680-67b4d4c3a13d",
    "papermill": {
     "duration": 268.481345,
     "end_time": "2022-02-23T12:39:47.734928",
     "exception": false,
     "start_time": "2022-02-23T12:35:19.253583",
     "status": "completed"
    },
    "tags": []
   },
   "outputs": [],
   "source": [
    "final_test_predictions_1 = []\n",
    "final_valid_predictions_1 = {}\n",
    "final_test_predictions_2 = []\n",
    "final_valid_predictions_2 = {}\n",
    "final_test_predictions_3 = []\n",
    "final_valid_predictions_3 = {}\n",
    "final_test_predictions_4 = []\n",
    "final_valid_predictions_4 = {}\n",
    "final_test_predictions_5 = []\n",
    "final_valid_predictions_5 = {}\n",
    "final_test_predictions_6 = []\n",
    "final_valid_predictions_6 = {}\n",
    "for fold in range(5):\n",
    "    xtrain =  df[df.kfold != fold].reset_index(drop=True)\n",
    "    xvalid = df[df.kfold == fold].reset_index(drop=True)\n",
    "    xtest = df_test.copy()\n",
    "    \n",
    "    valid_ids = xvalid['order_id'].values.tolist()\n",
    "    \n",
    "    useless_features = ['order_id','cancelled','kfold','stacking_kfold']\n",
    "    useful_features = [f for f in df.columns if f not in useless_features]\n",
    "\n",
    "\n",
    "    ytrain = xtrain['cancelled']\n",
    "    yvalid = xvalid['cancelled']\n",
    "    \n",
    "    useless_features = ['order_id','cancelled','kfold','stacking_kfold']\n",
    "    useful_features = [f for f in xtrain.columns if f not in useless_features]\n",
    "    useful_features_valid = [f for f in xvalid.columns if f not in useless_features]\n",
    "    xtrain = xtrain[useful_features]\n",
    "    xvalid = xvalid[useful_features_valid]\n",
    "    \n",
    "    useless_features = ['order_id','cancelled','kfold','stacking_kfold']\n",
    "    useful_features = [f for f in df_test.columns if f not in useless_features]\n",
    "    xtest = xtest[useful_features]\n",
    "    \n",
    "    \n",
    "    xtrain,ytrain = undersample.fit_resample(xtrain,ytrain)\n",
    "\n",
    "    \n",
    "    model_1 = ensemble.RandomForestClassifier()\n",
    "        \n",
    "    model_1.fit(xtrain, ytrain)\n",
    "    preds_valid_1 = model_1.predict_proba(xvalid)[:,1]\n",
    "    test_preds_1 = model_1.predict_proba(xtest)[:,1]\n",
    "    final_test_predictions_1.append(test_preds_1)\n",
    "    final_valid_predictions_1.update(dict(zip(valid_ids, preds_valid_1)))\n",
    "\n",
    "    model_2 = lgb.LGBMClassifier()\n",
    "\n",
    "        \n",
    "    model_2.fit(xtrain,ytrain)\n",
    "    preds_valid_2 = model_2.predict_proba(xvalid)[:,1]\n",
    "    test_preds_2 = model_2.predict_proba(xtest)[:,1]\n",
    "    final_test_predictions_2.append(test_preds_2)\n",
    "    final_valid_predictions_2.update(dict(zip(valid_ids, preds_valid_2)))\n",
    "\n",
    "    model_3 = cb.CatBoostClassifier()\n",
    "\n",
    "        \n",
    "    model_3.fit(xtrain, ytrain, verbose=False)\n",
    "    preds_valid_3 = model_3.predict_proba(xvalid)[:,1]\n",
    "    test_preds_3 = model_3.predict_proba(xtest)[:,1]\n",
    "    final_test_predictions_3.append(test_preds_3)\n",
    "    final_valid_predictions_3.update(dict(zip(valid_ids, preds_valid_3)))\n",
    "    \n",
    "    model_4 = ensemble.GradientBoostingClassifier()\n",
    "        \n",
    "    model_4.fit(xtrain, ytrain)\n",
    "    preds_valid_4 = model_4.predict_proba(xvalid)[:,1]\n",
    "    test_preds_4 = model_4.predict_proba(xtest)[:,1]\n",
    "    final_test_predictions_4.append(test_preds_4)\n",
    "    final_valid_predictions_4.update(dict(zip(valid_ids, preds_valid_4)))\n",
    "    \n",
    "#     model_5 = ensemble.AdaBoostClassifier()\n",
    "    \n",
    "#     model_5.fit(xtrain, ytrain)\n",
    "#     preds_valid_5 = model_5.predict_proba(xvalid)[:,1]\n",
    "#     test_preds_5 = model_5.predict_proba(xtest)[:,1]\n",
    "#     final_test_predictions_5.append(test_preds_5)\n",
    "#     final_valid_predictions_5.update(dict(zip(valid_ids, preds_valid_5)))\n",
    "    \n",
    "#     model_6 = XGBClassifier()\n",
    "    \n",
    "#     model_6.fit(xtrain, ytrain)\n",
    "#     preds_valid_6 = model_6.predict_proba(xvalid)[:,1]\n",
    "#     test_preds_6 = model_6.predict_proba(xtest)[:,1]\n",
    "#     final_test_predictions_6.append(test_preds_6)\n",
    "#     final_valid_predictions_6.update(dict(zip(valid_ids, preds_valid_6)))\n"
   ]
  },
  {
   "cell_type": "code",
   "execution_count": 44,
   "id": "7e503c9c",
   "metadata": {
    "execution": {
     "iopub.execute_input": "2022-02-23T12:39:47.864995Z",
     "iopub.status.busy": "2022-02-23T12:39:47.864247Z",
     "iopub.status.idle": "2022-02-23T12:39:54.640921Z",
     "shell.execute_reply": "2022-02-23T12:39:54.640324Z",
     "shell.execute_reply.started": "2022-02-10T17:13:35.022652Z"
    },
    "id": "Fzw6f3-Ih552",
    "papermill": {
     "duration": 6.842149,
     "end_time": "2022-02-23T12:39:54.641072",
     "exception": false,
     "start_time": "2022-02-23T12:39:47.798923",
     "status": "completed"
    },
    "tags": []
   },
   "outputs": [],
   "source": [
    "final_valid_predictions_1 = pd.DataFrame.from_dict(final_valid_predictions_1, orient=\"index\").reset_index()\n",
    "final_valid_predictions_1.columns = [\"order_id\", \"pred_1\"]\n",
    "df = df.merge(final_valid_predictions_1, on = 'order_id', how = 'left')\n",
    "\n",
    "final_valid_predictions_2 = pd.DataFrame.from_dict(final_valid_predictions_2, orient=\"index\").reset_index()\n",
    "final_valid_predictions_2.columns = [\"order_id\", \"pred_2\"]\n",
    "df = df.merge(final_valid_predictions_2, on = 'order_id', how = 'left')\n",
    "\n",
    "final_valid_predictions_3 = pd.DataFrame.from_dict(final_valid_predictions_3, orient=\"index\").reset_index()\n",
    "final_valid_predictions_3.columns = [\"order_id\", \"pred_3\"]\n",
    "df = df.merge(final_valid_predictions_3, on = 'order_id', how = 'left')\n",
    "\n",
    "final_valid_predictions_4 = pd.DataFrame.from_dict(final_valid_predictions_4, orient=\"index\").reset_index()\n",
    "final_valid_predictions_4.columns = [\"order_id\", \"pred_4\"]\n",
    "df = df.merge(final_valid_predictions_4, on = 'order_id', how = 'left')\n",
    "\n",
    "# final_valid_predictions_5 = pd.DataFrame.from_dict(final_valid_predictions_5, orient=\"index\").reset_index()\n",
    "# final_valid_predictions_5.columns = [\"order_id\", \"pred_5\"]\n",
    "# df = df.merge(final_valid_predictions_5, on = 'order_id', how = 'left')\n",
    "\n",
    "# final_valid_predictions_6 = pd.DataFrame.from_dict(final_valid_predictions_6, orient=\"index\").reset_index()\n",
    "# final_valid_predictions_6.columns = [\"order_id\", \"pred_6\"]\n",
    "# df = df.merge(final_valid_predictions_6, on = 'order_id', how = 'left')\n",
    "\n",
    "\n",
    "sample_submission = pd.read_csv('../input/cascade-cup-22/sample_submission.csv')\n",
    "sample_submission['cancelled'] = np.mean(np.column_stack(final_test_predictions_1), axis=1)\n",
    "sample_submission.columns = [\"order_id\", \"pred_1\"]\n",
    "df_test = df_test.merge(sample_submission, on = 'order_id', how = 'left')\n",
    "\n",
    "sample_submission = pd.read_csv('../input/cascade-cup-22/sample_submission.csv')\n",
    "sample_submission['cancelled'] = np.mean(np.column_stack(final_test_predictions_2), axis=1)\n",
    "sample_submission.columns = [\"order_id\", \"pred_2\"]\n",
    "df_test = df_test.merge(sample_submission, on = 'order_id', how = 'left')\n",
    "\n",
    "sample_submission = pd.read_csv('../input/cascade-cup-22/sample_submission.csv')\n",
    "sample_submission['cancelled'] = np.mean(np.column_stack(final_test_predictions_3), axis=1)\n",
    "sample_submission.columns = [\"order_id\", \"pred_3\"]\n",
    "df_test = df_test.merge(sample_submission, on = 'order_id', how = 'left')\n",
    "\n",
    "sample_submission = pd.read_csv('../input/cascade-cup-22/sample_submission.csv')\n",
    "sample_submission['cancelled'] = np.mean(np.column_stack(final_test_predictions_4), axis=1)\n",
    "sample_submission.columns = [\"order_id\", \"pred_4\"]\n",
    "df_test = df_test.merge(sample_submission, on = 'order_id', how = 'left')\n",
    "\n",
    "# sample_submission = pd.read_csv('../input/cascade-cup-22/sample_submission.csv')\n",
    "# sample_submission['cancelled'] = np.mean(np.column_stack(final_test_predictions_5), axis=1)\n",
    "# sample_submission.columns = [\"order_id\", \"pred_5\"]\n",
    "# df_test = df_test.merge(sample_submission, on = 'order_id', how = 'left')\n",
    "\n",
    "# sample_submission = pd.read_csv('../input/cascade-cup-22/sample_submission.csv')\n",
    "# sample_submission['cancelled'] = np.mean(np.column_stack(final_test_predictions_6), axis=1)\n",
    "# sample_submission.columns = [\"order_id\", \"pred_6\"]\n",
    "# df_test = df_test.merge(sample_submission, on = 'order_id', how = 'left')"
   ]
  },
  {
   "cell_type": "code",
   "execution_count": 45,
   "id": "17428f06",
   "metadata": {
    "execution": {
     "iopub.execute_input": "2022-02-23T12:39:54.759918Z",
     "iopub.status.busy": "2022-02-23T12:39:54.759240Z",
     "iopub.status.idle": "2022-02-23T12:40:01.716436Z",
     "shell.execute_reply": "2022-02-23T12:40:01.717332Z",
     "shell.execute_reply.started": "2022-02-10T17:13:41.82956Z"
    },
    "papermill": {
     "duration": 7.019183,
     "end_time": "2022-02-23T12:40:01.717603",
     "exception": false,
     "start_time": "2022-02-23T12:39:54.698420",
     "status": "completed"
    },
    "tags": []
   },
   "outputs": [
    {
     "name": "stdout",
     "output_type": "stream",
     "text": [
      "0 0.9277548760429148\n",
      "1 0.9224500410644716\n",
      "2 0.9179198799733788\n",
      "3 0.9288892812650587\n",
      "4 0.9241460628260147\n"
     ]
    }
   ],
   "source": [
    "useful_features = [\"pred_1\", \"pred_2\",'pred_3','pred_4']\n",
    "df_test = df_test[useful_features]\n",
    "\n",
    "final_predictions = []\n",
    "scores = []\n",
    "for fold in range(5):\n",
    "    xtrain =  df[df['stacking_kfold'] != fold].reset_index(drop=True)\n",
    "    xvalid = df[df['stacking_kfold'] == fold].reset_index(drop=True)\n",
    "    xtest = df_test.copy()\n",
    "\n",
    "\n",
    "    ytrain = xtrain['cancelled']\n",
    "\n",
    "    yvalid = xvalid['cancelled']\n",
    "    \n",
    "    xtrain = xtrain[useful_features]\n",
    "    xvalid = xvalid[useful_features]\n",
    "    \n",
    "    model = LogisticRegression()\n",
    "    model.fit(xtrain, ytrain)\n",
    "    \n",
    "    preds_valid = model.predict_proba(xvalid)[:,1]\n",
    "    test_preds = model.predict_proba(xtest)[:,1]\n",
    "    final_predictions.append(test_preds)\n",
    "    print(fold, roc_auc_score(yvalid, preds_valid))"
   ]
  },
  {
   "cell_type": "markdown",
   "id": "c1aa1e3c",
   "metadata": {
    "papermill": {
     "duration": 0.058405,
     "end_time": "2022-02-23T12:40:01.865992",
     "exception": false,
     "start_time": "2022-02-23T12:40:01.807587",
     "status": "completed"
    },
    "tags": []
   },
   "source": [
    "# Submission"
   ]
  },
  {
   "cell_type": "code",
   "execution_count": 46,
   "id": "46d0ec2e",
   "metadata": {
    "execution": {
     "iopub.execute_input": "2022-02-23T12:40:01.991497Z",
     "iopub.status.busy": "2022-02-23T12:40:01.990279Z",
     "iopub.status.idle": "2022-02-23T12:40:01.997622Z",
     "shell.execute_reply": "2022-02-23T12:40:01.998278Z",
     "shell.execute_reply.started": "2022-02-10T17:15:10.803773Z"
    },
    "id": "fVIuGw8NpuIz",
    "papermill": {
     "duration": 0.072386,
     "end_time": "2022-02-23T12:40:01.998448",
     "exception": false,
     "start_time": "2022-02-23T12:40:01.926062",
     "status": "completed"
    },
    "tags": []
   },
   "outputs": [],
   "source": [
    "preds = np.mean(np.column_stack(final_predictions), axis=1)"
   ]
  },
  {
   "cell_type": "code",
   "execution_count": 47,
   "id": "91facec7",
   "metadata": {
    "execution": {
     "iopub.execute_input": "2022-02-23T12:40:02.120164Z",
     "iopub.status.busy": "2022-02-23T12:40:02.119482Z",
     "iopub.status.idle": "2022-02-23T12:40:02.153405Z",
     "shell.execute_reply": "2022-02-23T12:40:02.152778Z",
     "shell.execute_reply.started": "2022-02-10T17:15:13.097924Z"
    },
    "id": "2nX36uQcVvoS",
    "papermill": {
     "duration": 0.096677,
     "end_time": "2022-02-23T12:40:02.153554",
     "exception": false,
     "start_time": "2022-02-23T12:40:02.056877",
     "status": "completed"
    },
    "tags": []
   },
   "outputs": [],
   "source": [
    "sample_submission = pd.read_csv(\"../input/cascade-cup-22/sample_submission.csv\")"
   ]
  },
  {
   "cell_type": "code",
   "execution_count": 48,
   "id": "242ef593",
   "metadata": {
    "execution": {
     "iopub.execute_input": "2022-02-23T12:40:02.280414Z",
     "iopub.status.busy": "2022-02-23T12:40:02.279780Z",
     "iopub.status.idle": "2022-02-23T12:40:02.282359Z",
     "shell.execute_reply": "2022-02-23T12:40:02.283003Z",
     "shell.execute_reply.started": "2022-02-10T17:15:15.055172Z"
    },
    "id": "mhIz97gipuIz",
    "outputId": "2bb3f9b3-eaa9-4b84-8ddb-4b5663937990",
    "papermill": {
     "duration": 0.069587,
     "end_time": "2022-02-23T12:40:02.283167",
     "exception": false,
     "start_time": "2022-02-23T12:40:02.213580",
     "status": "completed"
    },
    "tags": []
   },
   "outputs": [
    {
     "data": {
      "text/plain": [
       "array([0.03036322, 0.00168552, 0.00122377, ..., 0.00132761, 0.00252757,\n",
       "       0.00177428])"
      ]
     },
     "execution_count": 48,
     "metadata": {},
     "output_type": "execute_result"
    }
   ],
   "source": [
    "preds"
   ]
  },
  {
   "cell_type": "code",
   "execution_count": 49,
   "id": "968c1d24",
   "metadata": {
    "execution": {
     "iopub.execute_input": "2022-02-23T12:40:02.407641Z",
     "iopub.status.busy": "2022-02-23T12:40:02.406625Z",
     "iopub.status.idle": "2022-02-23T12:40:02.918577Z",
     "shell.execute_reply": "2022-02-23T12:40:02.917997Z",
     "shell.execute_reply.started": "2022-02-10T17:15:17.099244Z"
    },
    "id": "x-iq_AHOpuIz",
    "outputId": "4c43df77-ffb2-4a08-badf-a8e58b4f9da5",
    "papermill": {
     "duration": 0.576206,
     "end_time": "2022-02-23T12:40:02.918733",
     "exception": false,
     "start_time": "2022-02-23T12:40:02.342527",
     "status": "completed"
    },
    "tags": []
   },
   "outputs": [],
   "source": [
    "sample_submission['cancelled'] = preds\n",
    "sample_submission.to_csv(\"submission.csv\", index=False)"
   ]
  },
  {
   "cell_type": "code",
   "execution_count": 50,
   "id": "68183271",
   "metadata": {
    "execution": {
     "iopub.execute_input": "2022-02-23T12:40:03.047387Z",
     "iopub.status.busy": "2022-02-23T12:40:03.043379Z",
     "iopub.status.idle": "2022-02-23T12:40:03.060650Z",
     "shell.execute_reply": "2022-02-23T12:40:03.061202Z",
     "shell.execute_reply.started": "2022-02-10T17:06:56.416883Z"
    },
    "id": "lKpC_EQ-puIz",
    "papermill": {
     "duration": 0.082481,
     "end_time": "2022-02-23T12:40:03.061373",
     "exception": false,
     "start_time": "2022-02-23T12:40:02.978892",
     "status": "completed"
    },
    "tags": []
   },
   "outputs": [
    {
     "data": {
      "text/html": [
       "<div>\n",
       "<style scoped>\n",
       "    .dataframe tbody tr th:only-of-type {\n",
       "        vertical-align: middle;\n",
       "    }\n",
       "\n",
       "    .dataframe tbody tr th {\n",
       "        vertical-align: top;\n",
       "    }\n",
       "\n",
       "    .dataframe thead th {\n",
       "        text-align: right;\n",
       "    }\n",
       "</style>\n",
       "<table border=\"1\" class=\"dataframe\">\n",
       "  <thead>\n",
       "    <tr style=\"text-align: right;\">\n",
       "      <th></th>\n",
       "      <th>order_id</th>\n",
       "      <th>cancelled</th>\n",
       "    </tr>\n",
       "  </thead>\n",
       "  <tbody>\n",
       "    <tr>\n",
       "      <th>0</th>\n",
       "      <td>130231</td>\n",
       "      <td>0.030363</td>\n",
       "    </tr>\n",
       "    <tr>\n",
       "      <th>1</th>\n",
       "      <td>130232</td>\n",
       "      <td>0.001686</td>\n",
       "    </tr>\n",
       "    <tr>\n",
       "      <th>2</th>\n",
       "      <td>130233</td>\n",
       "      <td>0.001224</td>\n",
       "    </tr>\n",
       "    <tr>\n",
       "      <th>3</th>\n",
       "      <td>130234</td>\n",
       "      <td>0.002594</td>\n",
       "    </tr>\n",
       "    <tr>\n",
       "      <th>4</th>\n",
       "      <td>130235</td>\n",
       "      <td>0.000962</td>\n",
       "    </tr>\n",
       "    <tr>\n",
       "      <th>...</th>\n",
       "      <td>...</td>\n",
       "      <td>...</td>\n",
       "    </tr>\n",
       "    <tr>\n",
       "      <th>144839</th>\n",
       "      <td>41184</td>\n",
       "      <td>0.001171</td>\n",
       "    </tr>\n",
       "    <tr>\n",
       "      <th>144840</th>\n",
       "      <td>41185</td>\n",
       "      <td>0.002468</td>\n",
       "    </tr>\n",
       "    <tr>\n",
       "      <th>144841</th>\n",
       "      <td>41186</td>\n",
       "      <td>0.001328</td>\n",
       "    </tr>\n",
       "    <tr>\n",
       "      <th>144842</th>\n",
       "      <td>41187</td>\n",
       "      <td>0.002528</td>\n",
       "    </tr>\n",
       "    <tr>\n",
       "      <th>144843</th>\n",
       "      <td>41188</td>\n",
       "      <td>0.001774</td>\n",
       "    </tr>\n",
       "  </tbody>\n",
       "</table>\n",
       "<p>144844 rows × 2 columns</p>\n",
       "</div>"
      ],
      "text/plain": [
       "        order_id  cancelled\n",
       "0         130231   0.030363\n",
       "1         130232   0.001686\n",
       "2         130233   0.001224\n",
       "3         130234   0.002594\n",
       "4         130235   0.000962\n",
       "...          ...        ...\n",
       "144839     41184   0.001171\n",
       "144840     41185   0.002468\n",
       "144841     41186   0.001328\n",
       "144842     41187   0.002528\n",
       "144843     41188   0.001774\n",
       "\n",
       "[144844 rows x 2 columns]"
      ]
     },
     "execution_count": 50,
     "metadata": {},
     "output_type": "execute_result"
    }
   ],
   "source": [
    "sample_submission"
   ]
  }
 ],
 "metadata": {
  "kernelspec": {
   "display_name": "Python 3",
   "language": "python",
   "name": "python3"
  },
  "language_info": {
   "codemirror_mode": {
    "name": "ipython",
    "version": 3
   },
   "file_extension": ".py",
   "mimetype": "text/x-python",
   "name": "python",
   "nbconvert_exporter": "python",
   "pygments_lexer": "ipython3",
   "version": "3.7.12"
  },
  "papermill": {
   "default_parameters": {},
   "duration": 475.025689,
   "end_time": "2022-02-23T12:40:04.334242",
   "environment_variables": {},
   "exception": null,
   "input_path": "__notebook__.ipynb",
   "output_path": "__notebook__.ipynb",
   "parameters": {},
   "start_time": "2022-02-23T12:32:09.308553",
   "version": "2.3.3"
  }
 },
 "nbformat": 4,
 "nbformat_minor": 5
}
